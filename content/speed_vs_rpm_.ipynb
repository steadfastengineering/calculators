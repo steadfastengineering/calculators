{
  "metadata": {
    "language_info": {
      "codemirror_mode": {
        "name": "python",
        "version": 3
      },
      "file_extension": ".py",
      "mimetype": "text/x-python",
      "name": "python",
      "nbconvert_exporter": "python",
      "pygments_lexer": "ipython3",
      "version": "3.8"
    },
    "kernelspec": {
      "name": "python",
      "display_name": "Python (Pyodide)",
      "language": "python"
    }
  },
  "nbformat_minor": 4,
  "nbformat": 4,
  "cells": [
    {
      "cell_type": "code",
      "source": "import math\n\n# \n# Vechicle Speed from RPM, Tire, and Gearing\n# \n# tire: diameter of the tire in inches\n# rpm: revolutions per minute \n# gear: the transmission gear ratio\n# ring and pinion: the differential gear ratio\n#\ndef speed(tire, rpm, gear, ringAndPinion):\n    circumference = math.pi*tire\n    finalDriveRatio = gear*ringAndPinion\n    inchesPerMinute = (rpm/finalDriveRatio)*circumference\n    mph = inchesPerMinute/1056\n    kph = mph*1.609344\n    print('%s RPM %s0.2fMPH %s0.2fKPH' % (rpm, mph, kph))",
      "metadata": {
        "trusted": true
      },
      "execution_count": 11,
      "outputs": []
    },
    {
      "cell_type": "code",
      "source": "speed(35,2800,0.89,4.88)",
      "metadata": {
        "trusted": true
      },
      "execution_count": 12,
      "outputs": [
        {
          "name": "stdout",
          "text": "2800 RPM 67.127767137334430.2f MPH 108.031669275866350.2fKPH\n",
          "output_type": "stream"
        }
      ]
    },
    {
      "cell_type": "code",
      "source": "",
      "metadata": {},
      "execution_count": null,
      "outputs": []
    }
  ]
}