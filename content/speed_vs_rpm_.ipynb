{
  "metadata": {
    "language_info": {
      "codemirror_mode": {
        "name": "python",
        "version": 3
      },
      "file_extension": ".py",
      "mimetype": "text/x-python",
      "name": "python",
      "nbconvert_exporter": "python",
      "pygments_lexer": "ipython3",
      "version": "3.8"
    },
    "kernelspec": {
      "name": "python",
      "display_name": "Python (Pyodide)",
      "language": "python"
    }
  },
  "nbformat_minor": 4,
  "nbformat": 4,
  "cells": [
    {
      "cell_type": "code",
      "source": "import math\n\n# \n# Vechicle Speed from RPM, Tire, and Gearing\n# \n# tire: diameter of the tire in inches\n# rpm: revolutions per minute \n# gear: the transmission gear ratio\n# ring and pinion: the differential gear ratio\n#\ndef speed(rpm, tire, gear, ringAndPinion):\n    circumference = math.pi*tire\n    finalDriveRatio = gear*ringAndPinion\n    inchesPerMinute = (rpm/finalDriveRatio)*circumference\n    mph = inchesPerMinute/1056\n    kph = mph*1.609344\n    print('%s RPM %0.2f MPH %0.2f KPH' % (rpm, mph, kph))\n\n# Compute \"crawl speed\", given  crawl ratio, tire diameter, and rpm\ndef crawlspeed(rpm, tire, crawlratio):\n    circumference = math.pi*tire\n    inchesPerMinute = (rpm/crawlratio)*circumference\n    mph = inchesPerMinute/1056\n    kph = mph*1.609344\n    print('%s RPM %0.2f MPH %0.2f KPH' % (rpm, mph, kph))\n    \ndef traveltime(rpm, tire, crawlratio, distanceMiles):\n    circumference = math.pi*tire\n    inchesPerMinute = (rpm/crawlratio)*circumference\n    mph = inchesPerMinute/1056\n    travelTime = distanceMiles/mph\n    print('%0.2f hours per %s mile(s)' % (travelTime, distanceMiles))\n",
      "metadata": {
        "trusted": true
      },
      "execution_count": 28,
      "outputs": []
    },
    {
      "cell_type": "code",
      "source": "speed(2800,35,0.89,4.88)",
      "metadata": {
        "trusted": true
      },
      "execution_count": 25,
      "outputs": [
        {
          "name": "stdout",
          "text": "2800 RPM 67.13 MPH 108.03 KPH\n",
          "output_type": "stream"
        }
      ]
    },
    {
      "cell_type": "code",
      "source": "crawlspeed(750,35,224.88)",
      "metadata": {
        "trusted": true
      },
      "execution_count": 31,
      "outputs": [
        {
          "name": "stdout",
          "text": "750 RPM 0.35 MPH 0.56 KPH\n",
          "output_type": "stream"
        }
      ]
    },
    {
      "cell_type": "code",
      "source": "traveltime(750,35,224.88,1)",
      "metadata": {
        "trusted": true
      },
      "execution_count": 32,
      "outputs": [
        {
          "name": "stdout",
          "text": "2.88 hours per 1 mile(s)\n",
          "output_type": "stream"
        }
      ]
    },
    {
      "cell_type": "code",
      "source": "",
      "metadata": {},
      "execution_count": null,
      "outputs": []
    }
  ]
}