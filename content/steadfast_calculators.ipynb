{
 "cells": [
  {
   "cell_type": "code",
   "execution_count": 2,
   "id": "6ac54773",
   "metadata": {},
   "outputs": [],
   "source": [
    "# CALCULATORS\n",
    "#\n",
    "# Steadfast Engineering and Fabrication 2023\n",
    "# Enjoy\n",
    "\n",
    "# Multiply all ratios between engine crank and axles\n",
    "# and print the final crawl ratio. \n",
    "#\n",
    "# Low range ratios are optional. No rounding.\n",
    "# \n",
    "def cr(ringAndPinion, firstGear, low1=1, low2=1, low3=1):\n",
    "    crawlRatio = ringAndPinion*firstGear*low1*low2*low3\n",
    "    print('Crawl Ratio %s:1\\n' % (crawlRatio))\n",
    "\n",
    "# Convert metric a tire size to standard units\n",
    "# \n",
    "# width: millimeter width of tire, eg 255\n",
    "# aspect: the sidewall of the tire as an aspect ratio, eg 85\n",
    "# rimDiameter: the diameter of rim in inches, usually given as R16, R17, etc\n",
    "#\n",
    "def tiresize(metricWidth, aspect, rimDiameter):\n",
    "    standardWidth = metricWidth/25.4\n",
    "    rimRadius = rimDiameter/2\n",
    "    sidewallStandard = (metricWidth*(aspect/100))/25.4\n",
    "    standardTireDiameter = 2*(rimRadius + sidewallStandard)\n",
    "    print('Metric size:   %s %s R%s' % (metricWidth, aspect, rimDiameter))\n",
    "    print('Standard size: %s x %s' % (standardWidth, standardTireDiameter))\n",
    "    "
   ]
  },
  {
   "cell_type": "code",
   "execution_count": 3,
   "id": "1d57a59a",
   "metadata": {},
   "outputs": [],
   "source": [
    "def show():\n",
    "    print(\"Available Calculators:\\n\")\n",
    "    print(\"Crawl Ratio\")\n",
    "    print(\"\\t usage: cr(ringAndPinion, firstGear, low1, low2, low3)\")\n",
    "    print(\"\\t example: cr(4.88, 3.81, 2.57, 4.7)\\n\")\n",
    "\n",
    "    print(\"Metric to Standard Tire Converter\")\n",
    "    print(\"\\t usage: tiresize(metricWidth, aspect, rimDiameter)\")\n",
    "    print(\"\\t example: tiresize(255, 85, 16)\\n\")\n",
    "\n"
   ]
  },
  {
   "cell_type": "code",
   "execution_count": 4,
   "id": "2f7ac478",
   "metadata": {},
   "outputs": [
    {
     "name": "stdout",
     "output_type": "stream",
     "text": [
      "Available Calculators:\n",
      "\n",
      "Crawl Ratio\n",
      "\t usage: cr(ringAndPinion, firstGear, low1, low2, low3)\n",
      "\t example: cr(4.88, 3.81, 2.57, 4.7)\n",
      "\n",
      "Metric to Standard Tire Converter\n",
      "\t usage: tiresize(metricWidth, aspect, rimDiameter)\n",
      "\t example: tiresize(255, 85, 16)\n",
      "\n"
     ]
    }
   ],
   "source": [
    "show()"
   ]
  },
  {
   "cell_type": "code",
   "execution_count": 5,
   "id": "db4ea454",
   "metadata": {},
   "outputs": [
    {
     "name": "stdout",
     "output_type": "stream",
     "text": [
      "Metric size:   255 85 R16\n",
      "Standard size: 10.039370078740157 x 33.06692913385827\n"
     ]
    }
   ],
   "source": [
    "tiresize(255,85,16)"
   ]
  },
  {
   "cell_type": "code",
   "execution_count": 6,
   "id": "2dd3c73c",
   "metadata": {},
   "outputs": [
    {
     "name": "stdout",
     "output_type": "stream",
     "text": [
      "Crawl Ratio 133.12109901:1\n",
      "\n"
     ]
    }
   ],
   "source": [
    "cr(3.81, 5.29, 2.57,2.57)"
   ]
  },
  {
   "cell_type": "code",
   "execution_count": null,
   "id": "e298399f",
   "metadata": {},
   "outputs": [],
   "source": []
  }
 ],
 "metadata": {
  "kernelspec": {
   "display_name": "Python 3 (ipykernel)",
   "language": "python",
   "name": "python3"
  },
  "language_info": {
   "codemirror_mode": {
    "name": "ipython",
    "version": 3
   },
   "file_extension": ".py",
   "mimetype": "text/x-python",
   "name": "python",
   "nbconvert_exporter": "python",
   "pygments_lexer": "ipython3",
   "version": "3.11.2"
  }
 },
 "nbformat": 4,
 "nbformat_minor": 5
}
