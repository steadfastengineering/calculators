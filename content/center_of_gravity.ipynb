{
  "metadata": {
    "language_info": {
      "codemirror_mode": {
        "name": "python",
        "version": 3
      },
      "file_extension": ".py",
      "mimetype": "text/x-python",
      "name": "python",
      "nbconvert_exporter": "python",
      "pygments_lexer": "ipython3",
      "version": "3.8"
    },
    "kernelspec": {
      "name": "python",
      "display_name": "Python (Pyodide)",
      "language": "python"
    }
  },
  "nbformat_minor": 4,
  "nbformat": 4,
  "cells": [
    {
      "cell_type": "code",
      "source": "# Compute the center of gravity in ground plane based on the corner weights of the vehicle. \n# Coordinate (0,0) is taken to be the rear left tire. \n\ndef center_of_gravity(trackWidth, wheelBase, leftRearCornerWeight, rightRearCornerWeight, leftFrontCornerWeight, rightFrontCornerWeight):\n    # Compute COG X-coordinate:\n    x_average = trackWidth*rightRearCornerWeight + trackWidth*rightFrontCornerWeight\n    x = x_average/(leftRearCornerWeight + rightRearCornerWeight + leftFrontCornerWeight + rightFrontCornerWeight)\n    # Compute COG Y-coordinate:\n    y_average = wheelBase*leftFrontCornerWeight + wheelBase*rightFrontCornerWeight\n    y = y_average/(leftRearCornerWeight + rightRearCornerWeight + leftFrontCornerWeight + rightFrontCornerWeight)\n    print('Metric size:   %s , %s' % (x, y))",
      "metadata": {
        "trusted": true
      },
      "execution_count": 18,
      "outputs": []
    },
    {
      "cell_type": "code",
      "source": "center_of_gravity(75,150, 1000, 1000, 1000, 1000)",
      "metadata": {
        "trusted": true
      },
      "execution_count": 19,
      "outputs": [
        {
          "name": "stdout",
          "text": "Metric size:   37.5 , 75.0\n",
          "output_type": "stream"
        }
      ]
    },
    {
      "cell_type": "code",
      "source": "",
      "metadata": {},
      "execution_count": null,
      "outputs": []
    }
  ]
}