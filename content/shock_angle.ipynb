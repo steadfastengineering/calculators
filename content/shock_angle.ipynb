{
  "metadata": {
    "language_info": {
      "codemirror_mode": {
        "name": "python",
        "version": 3
      },
      "file_extension": ".py",
      "mimetype": "text/x-python",
      "name": "python",
      "nbconvert_exporter": "python",
      "pygments_lexer": "ipython3",
      "version": "3.8"
    },
    "kernelspec": {
      "name": "python",
      "display_name": "Python (Pyodide)",
      "language": "python"
    }
  },
  "nbformat_minor": 4,
  "nbformat": 4,
  "cells": [
    {
      "cell_type": "code",
      "source": "import math\n\n# \n# Calculate the IFS shock angle correction factor based on \n# the angle from the vertical. \n# \n# If the coil-over is mounted vertically, the shock angle\n# is the measured from the vertical. A shock leaned inward \n# 15 degrees at the top will have a shock angle of 15 degrees.\n# \n#\ndef get_shock_angle_correction(angleDegrees):\n    angleRadians = angleDegrees*(math.pi/180)\n    correctionFactor = 1/math.cos(angleRadians)\n    return correctionFactor\n\n# \n# Given the an initial spring rate and the increase in shock\n# angle, compute the new equivalent spring rate. \n#\ndef corrected_spring_rate(angleDegrees, originalSpringRate):\n    cr = get_shock_angle_correction(angleDegrees)\n    equivalentSpringRate = originalSpringRate*cr\n    print('Equivalent spring rate %0.2f' % (equivalentSpringRate))\n",
      "metadata": {
        "trusted": true
      },
      "execution_count": 8,
      "outputs": []
    },
    {
      "cell_type": "code",
      "source": "corrected_spring_rate(15, 600)",
      "metadata": {
        "trusted": true
      },
      "execution_count": 10,
      "outputs": [
        {
          "name": "stdout",
          "text": "Equivalent spring rate 621.17\n",
          "output_type": "stream"
        }
      ]
    },
    {
      "cell_type": "code",
      "source": "",
      "metadata": {},
      "execution_count": null,
      "outputs": []
    },
    {
      "cell_type": "code",
      "source": "",
      "metadata": {},
      "execution_count": null,
      "outputs": []
    }
  ]
}