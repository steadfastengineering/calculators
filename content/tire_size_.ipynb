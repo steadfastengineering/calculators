{
  "metadata": {
    "language_info": {
      "codemirror_mode": {
        "name": "python",
        "version": 3
      },
      "file_extension": ".py",
      "mimetype": "text/x-python",
      "name": "python",
      "nbconvert_exporter": "python",
      "pygments_lexer": "ipython3",
      "version": "3.8"
    },
    "kernelspec": {
      "name": "python",
      "display_name": "Python (Pyodide)",
      "language": "python"
    }
  },
  "nbformat_minor": 4,
  "nbformat": 4,
  "cells": [
    {
      "cell_type": "code",
      "source": "# Convert metric a tire size to standard units\n# \n# width: millimeter width of tire, eg 255\n# aspect: the sidewall of the tire as an aspect ratio, eg 85\n# rimDiameter: the diameter of rim in inches, usually given as R16, R17, etc\n#\ndef tiresize(metricWidth, aspect, rimDiameter):\n    standardWidth = metricWidth/25.4\n    rimRadius = rimDiameter/2\n    sidewallStandard = (metricWidth*(aspect/100))/25.4\n    standardTireDiameter = 2*(rimRadius + sidewallStandard)\n    print('Metric size:   %s %s R%s' % (metricWidth, aspect, rimDiameter))\n    print('Standard size: %s x %s' % (standardWidth, standardTireDiameter))",
      "metadata": {
        "trusted": true
      },
      "execution_count": 2,
      "outputs": []
    },
    {
      "cell_type": "code",
      "source": "tiresize(255, 85, 16)",
      "metadata": {
        "trusted": true
      },
      "execution_count": 4,
      "outputs": [
        {
          "name": "stdout",
          "text": "Metric size:   255 85 R16\nStandard size: 10.039370078740157 x 33.06692913385827\n",
          "output_type": "stream"
        }
      ]
    },
    {
      "cell_type": "code",
      "source": "",
      "metadata": {},
      "execution_count": null,
      "outputs": []
    }
  ]
}