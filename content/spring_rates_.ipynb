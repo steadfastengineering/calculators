{
  "metadata": {
    "language_info": {
      "codemirror_mode": {
        "name": "python",
        "version": 3
      },
      "file_extension": ".py",
      "mimetype": "text/x-python",
      "name": "python",
      "nbconvert_exporter": "python",
      "pygments_lexer": "ipython3",
      "version": "3.8"
    },
    "kernelspec": {
      "name": "python",
      "display_name": "Python (Pyodide)",
      "language": "python"
    }
  },
  "nbformat_minor": 4,
  "nbformat": 4,
  "cells": [
    {
      "cell_type": "code",
      "source": "# Compute the effective spring rate for multiple springs in series\n#\n# Argument 1 is spring constant one\n# Argument 2 is is spring const two\n# Argument 3 is ...\n# \n# Spring constants are typically given in pounds per inch. \ndef springsinseries(*springConstants):\n    sum = 0;\n    for constant in springConstants:\n        sum += (1/constant)\n    effectiveRate = (1/sum)\n    print('Effective spring rate %0.2f' % (effectiveRate))\n    ",
      "metadata": {
        "trusted": true
      },
      "execution_count": 1,
      "outputs": []
    },
    {
      "cell_type": "code",
      "source": "springsinseries(150,200)",
      "metadata": {
        "trusted": true
      },
      "execution_count": 2,
      "outputs": [
        {
          "name": "stdout",
          "text": "Effective spring rate 85.71\n",
          "output_type": "stream"
        }
      ]
    },
    {
      "cell_type": "code",
      "source": "",
      "metadata": {},
      "execution_count": null,
      "outputs": []
    }
  ]
}