{
  "metadata": {
    "language_info": {
      "codemirror_mode": {
        "name": "python",
        "version": 3
      },
      "file_extension": ".py",
      "mimetype": "text/x-python",
      "name": "python",
      "nbconvert_exporter": "python",
      "pygments_lexer": "ipython3",
      "version": "3.8"
    },
    "kernelspec": {
      "name": "python",
      "display_name": "Python (Pyodide)",
      "language": "python"
    }
  },
  "nbformat_minor": 4,
  "nbformat": 4,
  "cells": [
    {
      "cell_type": "code",
      "source": "import math\n\n# \n# Get the minor sagitta (arc-height) given the radius  and chord.\n#\ndef get_sagitta(radius, chord):\n    height = radius - math.sqrt(pow(radius,2)-pow((chord/2),2)) \n    return height\n\n# \n# Print the sagitta (arc-height) given radius of the arc\n# and the chord length.\n#\ndef sagitta_chord(radius, chord):\n    print('Sagitta: %0.2f' % (get_sagitta(radius, chord)))\n    \n# \n# Print the sagitta (arc-height) given radius of the arc\n# and the angle of the sector.\n#\ndef sagitta_angle(radius, angleInDegrees):\n    angleInRadians = angleInDegrees*(math.pi/180)\n    arcLength = angleInRadians*radius\n    chord = 2*(radius*math.sin((arcLength/(2*radius))))\n    height = get_sagitta(radius, chord)\n    print('Sagitta: %0.2f' % (height))\n    ",
      "metadata": {
        "trusted": true
      },
      "execution_count": 18,
      "outputs": []
    },
    {
      "cell_type": "code",
      "source": "sagitta_chord(40,16)",
      "metadata": {
        "trusted": true
      },
      "execution_count": 19,
      "outputs": [
        {
          "name": "stdout",
          "text": "Sagitta: 0.81\n",
          "output_type": "stream"
        }
      ]
    },
    {
      "cell_type": "code",
      "source": "sagitta_angle(40,24)",
      "metadata": {
        "trusted": true
      },
      "execution_count": 22,
      "outputs": [
        {
          "name": "stdout",
          "text": "Sagitta: 0.87\n",
          "output_type": "stream"
        }
      ]
    },
    {
      "cell_type": "code",
      "source": "",
      "metadata": {},
      "execution_count": null,
      "outputs": []
    }
  ]
}