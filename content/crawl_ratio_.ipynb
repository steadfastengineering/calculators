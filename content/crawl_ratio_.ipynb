{
  "metadata": {
    "language_info": {
      "codemirror_mode": {
        "name": "python",
        "version": 3
      },
      "file_extension": ".py",
      "mimetype": "text/x-python",
      "name": "python",
      "nbconvert_exporter": "python",
      "pygments_lexer": "ipython3",
      "version": "3.8"
    },
    "kernelspec": {
      "name": "python",
      "display_name": "Python (Pyodide)",
      "language": "python"
    }
  },
  "nbformat_minor": 4,
  "nbformat": 4,
  "cells": [
    {
      "cell_type": "code",
      "source": "# \n# Multiply all ratios between engine crank and axles\n# and print the final crawl ratio. \n#\n# Low range ratios are optional. \n# No rounding.\n# \ndef cr(ringAndPinion, firstGear, low1=1, low2=1, low3=1):\n    \n    crawlRatio = ringAndPinion * firstGear * low1 * low2 * low3\n    \n    print('Crawl Ratio %s:1\\n' % (crawlRatio))",
      "metadata": {
        "trusted": true
      },
      "execution_count": 1,
      "outputs": []
    },
    {
      "cell_type": "code",
      "source": "cr(5.29, 3.89, 2.57, 2.57)",
      "metadata": {
        "trusted": true
      },
      "execution_count": 2,
      "outputs": [
        {
          "name": "stdout",
          "text": "Crawl Ratio 135.91629268999998:1\n\n",
          "output_type": "stream"
        }
      ]
    },
    {
      "cell_type": "code",
      "source": "",
      "metadata": {
        "trusted": true
      },
      "execution_count": null,
      "outputs": []
    }
  ]
}